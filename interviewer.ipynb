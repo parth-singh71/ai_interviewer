{
 "cells": [
  {
   "cell_type": "markdown",
   "id": "f110a4bf",
   "metadata": {},
   "source": [
    "# Environment Setup"
   ]
  },
  {
   "cell_type": "markdown",
   "id": "cd55371c",
   "metadata": {},
   "source": [
    "Set up LangChain environment variables for tracing and project configuration"
   ]
  },
  {
   "cell_type": "code",
   "execution_count": 1,
   "id": "eaa4ef16",
   "metadata": {},
   "outputs": [],
   "source": [
    "import os\n",
    "\n",
    "os.environ[\"LANGCHAIN_PROJECT\"] = \"interviewer\"\n",
    "os.environ[\"LANGCHAIN_API_KEY\"] = \"YOUR_API_KEY\"\n",
    "os.environ[\"LANGCHAIN_TRACING_V2\"] = \"true\"\n",
    "os.environ[\"LANGCHAIN_TRACING\"] = \"true\"\n",
    "os.environ[\"LANGCHAIN_ENDPOINT\"] = \"https://api.smith.langchain.com\""
   ]
  },
  {
   "cell_type": "markdown",
   "id": "bc23ba65",
   "metadata": {},
   "source": [
    "# Imports and Initialization"
   ]
  },
  {
   "cell_type": "code",
   "execution_count": 2,
   "id": "c1df9c04",
   "metadata": {},
   "outputs": [],
   "source": [
    "# Import modules and type helpers\n",
    "import json, random\n",
    "from typing import Annotated, List, Literal\n",
    "from typing_extensions import TypedDict\n",
    "\n",
    "# LangChain-specific components\n",
    "from langchain.prompts import ChatPromptTemplate\n",
    "from langchain_core.prompts import ChatPromptTemplate\n",
    "from langchain_core.output_parsers import StrOutputParser\n",
    "from langchain.chat_models import init_chat_model\n",
    "from langgraph.graph import StateGraph\n",
    "from langgraph.graph.message import add_messages\n",
    "from langgraph.graph import StateGraph, END\n",
    "from langgraph.types import Command, interrupt"
   ]
  },
  {
   "cell_type": "markdown",
   "id": "6e5665d7",
   "metadata": {},
   "source": [
    "# Memory Checkpointing\n",
    "Using in-memory checkpointing for LangGraph execution"
   ]
  },
  {
   "cell_type": "code",
   "execution_count": 3,
   "id": "edad517a",
   "metadata": {},
   "outputs": [],
   "source": [
    "from langgraph.checkpoint.memory import MemorySaver\n",
    "\n",
    "\n",
    "memory = MemorySaver()"
   ]
  },
  {
   "cell_type": "markdown",
   "id": "f2330167",
   "metadata": {},
   "source": [
    "# Speech-to-Text (STT) Setup\n",
    "Loading STT implemented using using VAD (webrtcvad) and local whisper model"
   ]
  },
  {
   "cell_type": "code",
   "execution_count": 4,
   "id": "c7c3fd3f",
   "metadata": {},
   "outputs": [],
   "source": [
    "from stt import STT\n",
    "\n",
    "\n",
    "stt = STT(\n",
    "    vad_mode=3,\n",
    "    whisper_model=\"small\", \n",
    ")"
   ]
  },
  {
   "cell_type": "markdown",
   "id": "78b23c13",
   "metadata": {},
   "source": [
    "# Text-to-Speech (TTS) Steup\n",
    "Converting text to speech using gTTS and playing it using pygame"
   ]
  },
  {
   "cell_type": "code",
   "execution_count": 5,
   "id": "4ad337e0",
   "metadata": {},
   "outputs": [
    {
     "name": "stdout",
     "output_type": "stream",
     "text": [
      "pygame 2.6.1 (SDL 2.28.4, Python 3.11.8)\n",
      "Hello from the pygame community. https://www.pygame.org/contribute.html\n"
     ]
    }
   ],
   "source": [
    "import io\n",
    "import pygame\n",
    "from gtts import gTTS\n",
    "\n",
    "\n",
    "def speak_text(text: str):\n",
    "    tts = gTTS(text)\n",
    "    mp3_fp = io.BytesIO()\n",
    "    tts.write_to_fp(mp3_fp)\n",
    "\n",
    "    pygame.mixer.init()\n",
    "    mp3_fp.seek(0)\n",
    "    pygame.mixer.music.load(mp3_fp)\n",
    "    pygame.mixer.music.play()\n",
    "\n",
    "    while pygame.mixer.music.get_busy():\n",
    "        pygame.time.Clock().tick(10)"
   ]
  },
  {
   "cell_type": "markdown",
   "id": "6a64cb3b",
   "metadata": {},
   "source": [
    "# PDF Resume Parsing\n",
    "Loads and extracts text from each page of the given resume PDF"
   ]
  },
  {
   "cell_type": "code",
   "execution_count": 6,
   "id": "888a2538",
   "metadata": {},
   "outputs": [],
   "source": [
    "from langchain_core.documents import Document\n",
    "from langchain_community.document_loaders import PyPDFLoader\n",
    "\n",
    "\n",
    "def get_resume_text(file_path):\n",
    "    loader = PyPDFLoader(file_path)\n",
    "    pages: List[Document] = []\n",
    "    for page in loader.lazy_load():\n",
    "        pages.append(page)\n",
    "    return \"\\n\\n\".join(page.page_content for page in pages)"
   ]
  },
  {
   "cell_type": "markdown",
   "id": "1e51fd95",
   "metadata": {},
   "source": [
    "# Schema Definitions using Pydantic\n",
    "Enums and Pydantic models for structured resume and interview information"
   ]
  },
  {
   "cell_type": "code",
   "execution_count": 7,
   "id": "91bcd8ea",
   "metadata": {},
   "outputs": [],
   "source": [
    "from enum import Enum\n",
    "from typing import Optional\n",
    "from pydantic import BaseModel, Field\n",
    "\n",
    "\n",
    "class SkillLevel(Enum):\n",
    "    \"\"\"Skill proficiency levels\"\"\"\n",
    "    BEGINNER = 1\n",
    "    BASIC = 2\n",
    "    INTERMEDIATE = 3\n",
    "    ADVANCED = 4\n",
    "    EXPERT = 5\n",
    "\n",
    "\n",
    "class Skill(BaseModel):\n",
    "    \"\"\"Represents a skill with a name and proficiency level\"\"\"\n",
    "    name: str = Field(..., description=\"The name of the skill (e.g., Python, JavaScript)\")\n",
    "    level: Optional[SkillLevel] = Field(None, description=\"The proficiency level of the skill\")\n",
    "\n",
    "\n",
    "class Project(BaseModel):\n",
    "    \"\"\"Represents a project with its name, description, and tech stack\"\"\"\n",
    "    name: str = Field(..., description=\"The name of the project\")\n",
    "    description: str = Field(..., description=\"A short description of the project\")\n",
    "    tech_stack: Optional[List[str]] = Field(None, description=\"List of technologies used in the project\")\n",
    "\n",
    "\n",
    "class Experience(BaseModel):\n",
    "    \"\"\"Represents a work experience entry\"\"\"\n",
    "    org_name: str = Field(..., description=\"The name of the organization or company\")\n",
    "    description: List[str] = Field(..., description=\"List of responsibilities or achievements\")\n",
    "\n",
    "\n",
    "class Education(BaseModel):\n",
    "    \"\"\"Represents an educational qualification\"\"\"\n",
    "    institution: str = Field(..., description=\"The name of the educational institution\")\n",
    "    degree: str = Field(..., description=\"The degree or qualification earned\")\n",
    "    graduation_year: Optional[str] = Field(None, description=\"The year of graduation\")\n",
    "\n",
    "\n",
    "class Resume(BaseModel):\n",
    "    \"\"\"Represents a job candidate's resume\"\"\"\n",
    "    name: str = Field(..., description=\"The candidate's full name\")\n",
    "    email: Optional[str] = Field(None, description=\"The candidate's email address\")\n",
    "    phone_number: Optional[str] = Field(None, description=\"The candidate's phone number\")\n",
    "    location: Optional[str] = Field(None, description=\"The candidate's location (city, country)\")\n",
    "    total_experience: Optional[str] = Field(None, description=\"Total years of work experience\")\n",
    "    education: List[Education] = Field(..., description=\"List of educational qualifications\")\n",
    "    skills: List[Skill] = Field(..., description=\"List of skills with proficiency levels\")\n",
    "    work_experience: List[Experience] = Field(..., description=\"List of previous work experiences\")\n",
    "    certifications: Optional[List[str]] = Field(None, description=\"List of professional certifications\")\n",
    "    projects: Optional[List[Project]] = Field(None, description=\"List of notable projects\")\n",
    "    summary: str = Field(..., description=\"A short professional summary (1-2 lines)\")\n",
    "\n",
    "\n",
    "class FeedbackResponse(BaseModel):\n",
    "    \"\"\"Represents the evaluation result of a candidate's answer to a technical interview question.\"\"\"\n",
    "    feedback_summary: str = Field(..., description=\"A brief explanation of what was good and what can be improved.\")\n",
    "    score: int = Field(..., description=\"Score from 0 to 10 evaluating the quality of the answer.\")\n",
    "    response_for_user: str = Field(..., description=\"The response to be given to the candidate.\")\n",
    "    followup_question: Optional[str] = Field(None, description=\"Any follow up question to be given to the candidate. (Optional)\")"
   ]
  },
  {
   "cell_type": "markdown",
   "id": "d97006ce",
   "metadata": {},
   "source": [
    "# State Data Structures for Interview\n",
    "State tracking classes to manage tags, questions, answers, and interview flow"
   ]
  },
  {
   "cell_type": "code",
   "execution_count": 8,
   "id": "90d12fa1",
   "metadata": {},
   "outputs": [],
   "source": [
    "class CurrentTagData(BaseModel):\n",
    "    index: int\n",
    "    tag: str\n",
    "    num_questions: int\n",
    "\n",
    "\n",
    "class InterviewData(BaseModel):\n",
    "    question: str\n",
    "    answer: str\n",
    "    feedback: FeedbackResponse\n",
    "\n",
    "\n",
    "class InterviewState(TypedDict):\n",
    "    resume_text: str\n",
    "    parsed_resume: Resume\n",
    "    current_question: str\n",
    "    questions_asked: List[str]\n",
    "    tags: List[str]\n",
    "    current_tag_data: CurrentTagData\n",
    "    last_answer: str\n",
    "    feedback: FeedbackResponse\n",
    "    interview_data: List[InterviewData]\n",
    "    messages: Annotated[list, add_messages]\n",
    "    finished: bool"
   ]
  },
  {
   "cell_type": "markdown",
   "id": "71c31e24",
   "metadata": {},
   "source": [
    "# Node: Resume Parsing\n",
    "Parses resume text into structured Resume object using LLM"
   ]
  },
  {
   "cell_type": "code",
   "execution_count": 9,
   "id": "c784227d",
   "metadata": {},
   "outputs": [],
   "source": [
    "def parse_resume(state: InterviewState) -> Command[Literal[\"generate_question\"]]:\n",
    "    resume_text = state.get(\"resume_text\", \"\")\n",
    "    prompt = ChatPromptTemplate([\n",
    "        (\"system\", \"You are an expert resume parser. Given a plain text resume, extract structured information in JSON format.\"),\n",
    "        (\"human\", \"resume text: {resume_text}\")\n",
    "    ])\n",
    "    llm = init_chat_model(model=\"gpt-4o-mini\", model_provider=\"openai\")\n",
    "    resume_parser_llm = llm.with_structured_output(Resume)\n",
    "    chain = prompt | resume_parser_llm\n",
    "    parsed_resume = chain.invoke({\"resume_text\": resume_text})\n",
    "    return Command(\n",
    "        update={\n",
    "            \"parsed_resume\": parsed_resume,\n",
    "            \"messages\": [{\"name\": \"parse_resume\", \"role\": \"ai\", \"content\": json.dumps(parsed_resume.model_dump_json())}],\n",
    "        },\n",
    "        goto=\"generate_question\",\n",
    "        # graph=Command.PARENT\n",
    "    )"
   ]
  },
  {
   "cell_type": "markdown",
   "id": "a69f49c6",
   "metadata": {},
   "source": [
    "# Helper: Tag Selection Logic\n",
    "Determines the current tag and check whether to move to the next tag"
   ]
  },
  {
   "cell_type": "code",
   "execution_count": 10,
   "id": "4570ba13",
   "metadata": {},
   "outputs": [],
   "source": [
    "def get_tag(state: InterviewState, min_questions_per_tag=2, max_questions_per_tag=5) -> Optional[CurrentTagData]:\n",
    "    tags = state.get(\"tags\", [])\n",
    "    \n",
    "    default_current_tag_data = CurrentTagData(\n",
    "        index=0, \n",
    "        tag=tags[0], \n",
    "        num_questions=0\n",
    "    )\n",
    "    \n",
    "    current_tag_data = state.get(\"current_tag_data\", default_current_tag_data)\n",
    "    \n",
    "    index = current_tag_data.index\n",
    "    num_questions = current_tag_data.num_questions\n",
    "    if num_questions >= random.randint(min_questions_per_tag, max_questions_per_tag):\n",
    "        if index == len(tags) - 1:\n",
    "            return None\n",
    "        current_tag_data = CurrentTagData(\n",
    "            index=index + 1, \n",
    "            tag=tags[index + 1], \n",
    "            num_questions=0\n",
    "        )\n",
    "    return current_tag_data"
   ]
  },
  {
   "cell_type": "markdown",
   "id": "4f5048eb",
   "metadata": {},
   "source": [
    "# Node: Generate Interview Question\n",
    "Asks a tag-specific, non-repeating question using LLM"
   ]
  },
  {
   "cell_type": "code",
   "execution_count": 11,
   "id": "ca5b4fe1",
   "metadata": {},
   "outputs": [],
   "source": [
    "def generate_question(state: InterviewState) -> Command[Literal[\"get_user_answer\", \"__end__\"]]:\n",
    "    parsed_resume = state.get(\"parsed_resume\")\n",
    "    questions_asked = state.get(\"questions_asked\", [])\n",
    "    questions_asked = [f\"{i + 1}. {questions_asked[i]}\" for i in range(len(questions_asked))]\n",
    "    tag = get_tag(state, 2, 5)\n",
    "    if tag is None:\n",
    "        # all questions over\n",
    "        return Command(\n",
    "            update={\"finished\": True},\n",
    "            goto=\"__end__\"\n",
    "        )\n",
    "    \n",
    "    prompt = ChatPromptTemplate([\n",
    "        (\"system\", \"You are an expert technical interviewer. Your task is to evaluate a candidate's resume, and a tag, and then ask the most relevant question. Your question must be short and crisp and not be repeated from previously asked questions.\"),\n",
    "        (\"human\", \"tag: {tag}\\n\\nresume: {resume}\\n\\npreviously asked questions: {questions_asked}\"),\n",
    "    ])\n",
    "    llm = init_chat_model(model=\"gpt-4o-mini\", model_provider=\"openai\")\n",
    "    chain = prompt | llm | StrOutputParser()\n",
    "    question = chain.invoke({\n",
    "        \"tag\": tag.tag, \n",
    "        \"resume\": parsed_resume.model_dump_json(),\n",
    "        \"questions_asked\": \"\\n\".join(questions_asked),\n",
    "    })\n",
    "\n",
    "    speak_text(question)\n",
    "    \n",
    "    return Command(\n",
    "        update={\n",
    "            \"current_tag_data\": tag,\n",
    "            \"current_question\": question,\n",
    "            \"messages\": [{\"name\": \"generate_question\", \"role\": \"ai\", \"content\": question}],\n",
    "        },\n",
    "        goto=\"get_user_answer\",\n",
    "        # graph=Command.PARENT\n",
    "    )"
   ]
  },
  {
   "cell_type": "markdown",
   "id": "400ac599",
   "metadata": {},
   "source": [
    "# Node: Capture User Answer\n",
    "Uses interrupt to wait for user answer input"
   ]
  },
  {
   "cell_type": "code",
   "execution_count": 12,
   "id": "e3bc771d",
   "metadata": {},
   "outputs": [],
   "source": [
    "def get_user_answer(state: InterviewState) -> Command[Literal[\"evaluate_answer\"]]:\n",
    "    current_question = state.get(\"current_question\", \"\")\n",
    "    questions_asked = state.get(\"questions_asked\", [])\n",
    "    questions_asked = [f\"{i + 1}. {questions_asked[i]}\" for i in range(len(questions_asked))]\n",
    "    current_tag_data = state.get(\"current_tag_data\")\n",
    "    current_tag_data.num_questions += 1\n",
    "    user_response = interrupt({\"question\": current_question, \"invoked_from\": \"get_user_answer\"})\n",
    "    questions_asked.append(current_question)\n",
    "    return Command(\n",
    "        update={\n",
    "            \"last_answer\": user_response[\"answer\"],\n",
    "            \"questions_asked\": questions_asked,\n",
    "            \"current_tag_data\": current_tag_data,\n",
    "            \"messages\": [{\"name\": \"get_user_answer\", \"role\": \"user\", \"content\": user_response[\"answer\"]}],\n",
    "        },\n",
    "        goto=\"evaluate_answer\",\n",
    "        # graph=Command.PARENT\n",
    "    )"
   ]
  },
  {
   "cell_type": "markdown",
   "id": "d9bb0d28",
   "metadata": {},
   "source": [
    "# Node: Evaluate Answer\n",
    "Uses LLM to evaluate user answer, gives score and optional follow-up"
   ]
  },
  {
   "cell_type": "code",
   "execution_count": 13,
   "id": "dd46ee52",
   "metadata": {},
   "outputs": [],
   "source": [
    "def evaluate_answer(state: InterviewState) -> Command[Literal[\"feedback_and_followups\"]]:\n",
    "    question = state.get(\"current_question\")\n",
    "    answer = state.get(\"last_answer\", \"\")\n",
    "    questions_asked = state.get(\"questions_asked\", [])\n",
    "    interview_data = state.get(\"interview_data\", [])\n",
    "    prompt = ChatPromptTemplate([\n",
    "        (\"system\", \"You are a professional technical interviewer. Your task is to fairly and accurately evaluate a candidate's answer to a technical interview question and also give a response to the candidate. If the candidate answer is empty, give them 0 score and a helping feedback. Only ask a follow-up question if it is essential for evaluating the candidate's understanding further. otherwise don't ask. Make sure if you ask a follow up question, it should not have been asked previously.\"),\n",
    "        (\"human\", \"Question: {question}\\nAnswer: {answer}\\nPrevious Questions: {questions_asked}\")\n",
    "    ])\n",
    "\n",
    "    llm = init_chat_model(model=\"gpt-4o-mini\", model_provider=\"openai\")\n",
    "    feedback_llm = llm.with_structured_output(FeedbackResponse)\n",
    "    chain = prompt | feedback_llm\n",
    "    feedback_response = chain.invoke({\n",
    "        \"question\": question, \n",
    "        \"answer\": answer, \n",
    "        \"questions_asked\": \"\\n\".join(questions_asked),\n",
    "    })\n",
    "    interview_data.append(InterviewData(\n",
    "        question = question,\n",
    "        answer = answer,\n",
    "        feedback = feedback_response\n",
    "    ))\n",
    "    return Command(\n",
    "        update={\n",
    "            \"feedback\": feedback_response,\n",
    "            \"interview_data\": interview_data,\n",
    "            \"messages\": [{\"name\": \"evaluate_answer\", \"role\": \"ai\", \"content\": json.dumps(feedback_response.model_dump_json())}],\n",
    "        },\n",
    "        goto=\"feedback_and_followups\",\n",
    "        # graph=Command.PARENT\n",
    "    )"
   ]
  },
  {
   "cell_type": "markdown",
   "id": "4d3d2398",
   "metadata": {},
   "source": [
    "# Node: Provide Feedback and Handle Follow-Ups\n",
    "Speaks feedback to user and check if follow-up is needed"
   ]
  },
  {
   "cell_type": "code",
   "execution_count": 14,
   "id": "c094567a",
   "metadata": {},
   "outputs": [],
   "source": [
    "def feedback_and_followups(state: InterviewState) -> Command[Literal[\"generate_question\", \"get_user_answer\"]]:\n",
    "    feedback_response = state.get(\"feedback\")\n",
    "    speak_text(feedback_response.response_for_user)\n",
    "\n",
    "    if feedback_response.followup_question is not None:\n",
    "        # Ask follow-up immediately\n",
    "        speak_text(feedback_response.followup_question)\n",
    "        return Command(\n",
    "            update={\n",
    "                \"current_question\": feedback_response.followup_question,\n",
    "                \"messages\": [{\"name\": \"followup_question\", \"role\": \"ai\", \"content\": feedback_response.followup_question}],\n",
    "            },\n",
    "            goto=\"get_user_answer\"\n",
    "            # graph=Command.PARENT\n",
    "        )\n",
    "\n",
    "    return Command(\n",
    "        goto=\"generate_question\"\n",
    "        # graph=Command.PARENT\n",
    "    )"
   ]
  },
  {
   "cell_type": "markdown",
   "id": "85bbff92",
   "metadata": {},
   "source": [
    "# Graph Construction\n",
    "Constructing LangGraph by adding nodes"
   ]
  },
  {
   "cell_type": "code",
   "execution_count": 15,
   "id": "2e79e464",
   "metadata": {},
   "outputs": [
    {
     "data": {
      "text/plain": [
       "<langgraph.graph.state.StateGraph at 0x17fc3e910>"
      ]
     },
     "execution_count": 15,
     "metadata": {},
     "output_type": "execute_result"
    }
   ],
   "source": [
    "graph = StateGraph(InterviewState)\n",
    "graph.add_node(\"parse_resume\", parse_resume)\n",
    "graph.add_node(\"generate_question\", generate_question)\n",
    "graph.add_node(\"get_user_answer\", get_user_answer)\n",
    "graph.add_node(\"evaluate_answer\", evaluate_answer)\n",
    "graph.add_node(\"feedback_and_followups\", feedback_and_followups)\n",
    "\n",
    "graph.set_entry_point(\"parse_resume\")"
   ]
  },
  {
   "cell_type": "code",
   "execution_count": 16,
   "id": "3520dad1",
   "metadata": {},
   "outputs": [],
   "source": [
    "app = graph.compile(checkpointer=memory)"
   ]
  },
  {
   "cell_type": "markdown",
   "id": "790f5dfc",
   "metadata": {},
   "source": [
    "# Graph Visualization\n",
    "Displaying the visual representation of the interview process graph"
   ]
  },
  {
   "cell_type": "code",
   "execution_count": 17,
   "id": "b4c3c57d",
   "metadata": {},
   "outputs": [
    {
     "data": {
      "image/png": "[encoded data removed]",
      "text/plain": [
       "<IPython.core.display.Image object>"
      ]
     },
     "metadata": {},
     "output_type": "display_data"
    }
   ],
   "source": [
    "from IPython.display import Image, display\n",
    "\n",
    "\n",
    "display(Image(app.get_graph().draw_mermaid_png()))"
   ]
  },
  {
   "cell_type": "markdown",
   "id": "0e245a53",
   "metadata": {},
   "source": [
    "# Signal Handling\n",
    "Allows graceful shutdown of threads (Ctrl+C)"
   ]
  },
  {
   "cell_type": "code",
   "execution_count": 18,
   "id": "dd551f76",
   "metadata": {},
   "outputs": [
    {
     "data": {
      "text/plain": [
       "<function _signal.default_int_handler(signalnum, frame, /)>"
      ]
     },
     "execution_count": 18,
     "metadata": {},
     "output_type": "execute_result"
    }
   ],
   "source": [
    "import signal\n",
    "import threading\n",
    "\n",
    "\n",
    "# Global shutdown event\n",
    "shutdown_event = threading.Event()\n",
    "\n",
    "\n",
    "def signal_handler(sig, frame):\n",
    "    print(\"\\nCtrl+C detected. Shutting down...\")\n",
    "    shutdown_event.set()  # Signaling all threads to stop\n",
    "\n",
    "\n",
    "# Registering signal handler\n",
    "signal.signal(signal.SIGINT, signal_handler)"
   ]
  },
  {
   "cell_type": "markdown",
   "id": "75896237",
   "metadata": {},
   "source": [
    "# Interview Score Calculation\n",
    "Calculates total interview score along with percentage"
   ]
  },
  {
   "cell_type": "code",
   "execution_count": 19,
   "id": "7a285e04",
   "metadata": {},
   "outputs": [],
   "source": [
    "def get_score(interview_data: List[InterviewData]):\n",
    "    score = 0\n",
    "    max_score = len(interview_data) * 10\n",
    "    for idata in interview_data:\n",
    "        score += idata.feedback.score\n",
    "    percentage = (score / max_score) * 100\n",
    "    return score, max_score, percentage"
   ]
  },
  {
   "cell_type": "markdown",
   "id": "e5de2b61",
   "metadata": {},
   "source": [
    "# Main Function to start an interview"
   ]
  },
  {
   "cell_type": "code",
   "execution_count": 20,
   "id": "30dc1d69",
   "metadata": {},
   "outputs": [],
   "source": [
    "def run_interview(resume_file_path, tags, thread_id=\"default\"):\n",
    "    # Extracting text from the provided resume file\n",
    "    resume_text = get_resume_text(resume_file_path)\n",
    "    initial_state: InterviewState = {\n",
    "        'resume_text': resume_text,\n",
    "        'tags': tags,\n",
    "        'questions_asked': [],\n",
    "        'messages': [{\"name\": \"user\", \"role\": \"user\", \"content\": f\"tags: {tags}\\n\\nresume text: {resume_text}\"}]\n",
    "    }\n",
    "\n",
    "    config = {\"configurable\": {\"thread_id\": thread_id}, \"recursion_limit\": 25}\n",
    "    # Starting stream of interview events from the LangGraph app\n",
    "    events = app.stream(initial_state, config, stream_mode=\"values\")\n",
    "\n",
    "\n",
    "    try:\n",
    "        # Main event processing loop, runs until shutdown is triggered\n",
    "        while not shutdown_event.is_set():\n",
    "            for event in events:\n",
    "\n",
    "                # Printing the last user/AI message if available\n",
    "                if \"messages\" in event:\n",
    "                    messages = event[\"messages\"]\n",
    "                    last_message = messages[-1]\n",
    "                    print(f\"\\n{last_message.pretty_print()}\")\n",
    "                else:\n",
    "                    # Logging any other kind of event (for debugging)\n",
    "                    print(\"logging my event here: \", event)\n",
    "\n",
    "                # If this message is from get_user_answer node, we need to interrupt, get user's input and then continue\n",
    "                if \"__interrupt__\" in event:\n",
    "                    interrupt = event[\"__interrupt__\"][0]\n",
    "                    interrupt_node = interrupt.ns[0].split(\":\")[0]\n",
    "                    if interrupt_node == \"get_user_answer\":\n",
    "                        # Capture and process user's voice answer\n",
    "                        user_transcript = stt.run()\n",
    "                        human_command = Command(resume={\"answer\": \" \".join(user_transcript)})\n",
    "                        # Resume streaming with user's answer\n",
    "                        events = app.stream(human_command, config, stream_mode=\"values\")\n",
    "                        break  # breaking from inner for loop to process next cycle\n",
    "                # Handling interview completion event\n",
    "                if \"finished\" in event and event[\"finished\"] == True:\n",
    "                    # calculating and announcing the final score\n",
    "                    speak_text(\"Your interview is now complete\")\n",
    "                    if \"interview_data\" in event and event[\"interview_data\"] is not None and len(event[\"interview_data\"]) > 0:\n",
    "                        score, max_score, percentage = get_score(event[\"interview_data\"])\n",
    "                        speak_text(f\"Your final interview score is {score} out of {max_score}, which is {percentage}%\")\n",
    "                    return # Exiting the function after completion\n",
    "    except KeyboardInterrupt:\n",
    "        # Allows graceful shutdown with Ctrl+C (sets shutdown event)\n",
    "        shutdown_event.set()  # Redundant but safe"
   ]
  },
  {
   "cell_type": "code",
   "execution_count": 21,
   "id": "f14df325",
   "metadata": {},
   "outputs": [
    {
     "name": "stdout",
     "output_type": "stream",
     "text": [
      "================================\u001b[1m Human Message \u001b[0m=================================\n",
      "Name: user\n",
      "\n",
      "tags: ['Python']\n",
      "\n",
      "resume text: Parth Singh\n",
      "Experienced Software Developer\n",
      "♂¶obile+91 9997114215 /envel⌢peparth.singh71@gmail.com /h⌢meNoida, UP, India\n",
      "/linkedinin/parthsingh71 /githubgithub.com/parth-singh71 /codeleetcode/parthsingh71\n",
      "Profile\n",
      "Experienced software developer skilled in Python, Generative AI, Agentic AI, LangChain, LangGraph, Backend,\n",
      "RESTful API development, Django and Django REST Frameworkwith a strong understanding of software development\n",
      "principles and best practices.\n",
      "Professional Experience\n",
      "AI Software Engineer, Simbo Inc. Bengaluru, India (Remote) 06/2021 - present\n",
      "• Developed an LLM-based intent detection system with integrated sentiment analysis and response suggestion for specific\n",
      "intents, serving as a fallback mechanism for the NLP variant.\n",
      "• Built and deployed complex LLM chains using GPT-3, GPT-4, LLaMA 2, Claude v2.1, and Command LLM within Python\n",
      "pipelines to generate medical textual data for doctors; standardized outputs to achieve 80–90% accuracy across applications;\n",
      "also crafted and managed advanced Python and Bash pipelines on AWS EC2, leading to the launch of a new pricing tier.\n",
      "• Created RESTful APIs which heavily utilised the pipeline output and helped the frontend portal to become a feature-rich\n",
      "product in itself.\n",
      "• Improved NLU performance by 20–30% through updates & critical bug fixes; developed ui-nlu as a cross-platform package\n",
      "(JavaScript for web, Dart for mobile) enabling low-latency voice, action, and text commands; independently built and led the\n",
      "most profitable Android / iOS app from scratch; mentored juniors and managed app maintenance before project handoff.\n",
      "Computer Vision Intern, MobbyPark Bengaluru, India (Remote) 11/2020 - 03/2021\n",
      "• Developed a real-time Automatic License Plate Recognition System for automated parking fee application, fine-tuned YOLOv5\n",
      "for vehicle and license plate detection, and trained a CNN model for character recognition.\n",
      "Side Projects\n",
      "Multi-User Corrective RAG Backend Python, Django, LangChain, LangGraph, ChromaDB\n",
      "Backend Project — Project Link\n",
      "Developed a multi-user, authenticated backend for Document Ingestion and RAG-driven Q&A. Implemented Corrective\n",
      "RAG with query rephrasing and a ReAct agent, JWT authentication, custom document selection for context retrieval,\n",
      "and thread-based context for secure, multi-turn conversations.\n",
      "Self-Retrieval RAG Python, LangChain, LangGraph, gpt-4o-mini, ChromaDB\n",
      "LLM Based Project — Project Link\n",
      "Self-Retrieval RAG is an advanced RAG that enhances response accuracy by validating context, rephrasing queries, and\n",
      "refining responses as needed.\n",
      "Tripai Backend Python, Django, Django REST Framework, LangChain, gpt-4o-mini\n",
      "Backend Project — Project Link\n",
      "Robust and scalable backend system enabling users to plan trips based on budget, interests, duration, and travel type;\n",
      "implemented JWT-based authentication for secure and efficient trip data management.\n",
      "Key Skills\n",
      "• Programming Languages: Python, Java, JavaScript / TypeScript\n",
      "• Technical Skills: Generative AI, Agentic AI, NLP, Full Stack Development, RESTful API Development\n",
      "• Tools & Frameworks: LangChain, LangGraph, Django, Django Rest Framework, React.js, Next.js\n",
      "Education\n",
      "BTech in Computer and Communication Engineering Manipal University Jaipur Jaipur, India 2017-2021\n",
      "CGPA: 7.23\n",
      "\n",
      "None\n",
      "==================================\u001b[1m Ai Message \u001b[0m==================================\n",
      "Name: parse_resume\n",
      "\n",
      "\"{\\\"name\\\":\\\"Parth Singh\\\",\\\"email\\\":\\\"parth.singh71@gmail.com\\\",\\\"phone_number\\\":\\\"+91 9997114215\\\",\\\"location\\\":\\\"Noida, UP, India\\\",\\\"total_experience\\\":\\\"2 years\\\",\\\"education\\\":[{\\\"institution\\\":\\\"Manipal University Jaipur\\\",\\\"degree\\\":\\\"BTech in Computer and Communication Engineering\\\",\\\"graduation_year\\\":\\\"2021\\\"}],\\\"skills\\\":[{\\\"name\\\":\\\"Python\\\",\\\"level\\\":5},{\\\"name\\\":\\\"Java\\\",\\\"level\\\":4},{\\\"name\\\":\\\"JavaScript/TypeScript\\\",\\\"level\\\":4},{\\\"name\\\":\\\"Generative AI\\\",\\\"level\\\":5},{\\\"name\\\":\\\"Agentic AI\\\",\\\"level\\\":5},{\\\"name\\\":\\\"NLP\\\",\\\"level\\\":4},{\\\"name\\\":\\\"Full Stack Development\\\",\\\"level\\\":4},{\\\"name\\\":\\\"RESTful API Development\\\",\\\"level\\\":4},{\\\"name\\\":\\\"LangChain\\\",\\\"level\\\":4},{\\\"name\\\":\\\"LangGraph\\\",\\\"level\\\":4},{\\\"name\\\":\\\"Django\\\",\\\"level\\\":4},{\\\"name\\\":\\\"Django REST Framework\\\",\\\"level\\\":4},{\\\"name\\\":\\\"React.js\\\",\\\"level\\\":3},{\\\"name\\\":\\\"Next.js\\\",\\\"level\\\":3}],\\\"work_experience\\\":[{\\\"org_name\\\":\\\"Simbo Inc.\\\",\\\"description\\\":[\\\"Developed an LLM-based intent detection system with integrated sentiment analysis and response suggestion for specific intents.\\\",\\\"Built and deployed complex LLM chains using GPT-3, GPT-4, LLaMA 2, Claude v2.1, and Command LLM.\\\",\\\"Created RESTful APIs that helped the frontend portal to become a feature-rich product.\\\",\\\"Improved NLU performance by 20\\u201330% through updates & critical bug fixes.\\\",\\\"Developed ui-nlu as a cross-platform package for low-latency voice, action, and text commands.\\\",\\\"Independently built and led the most profitable Android/iOS app from scratch.\\\"]},{\\\"org_name\\\":\\\"MobbyPark\\\",\\\"description\\\":[\\\"Developed a real-time Automatic License Plate Recognition System for automated parking fee application.\\\",\\\"Fine-tuned YOLOv5 for vehicle and license plate detection, and trained a CNN model for character recognition.\\\"]}],\\\"certifications\\\":null,\\\"projects\\\":[{\\\"name\\\":\\\"Multi-User Corrective RAG\\\",\\\"description\\\":\\\"Developed a multi-user, authenticated backend for Document Ingestion and RAG-driven Q&A.\\\",\\\"tech_stack\\\":[\\\"Python\\\",\\\"Django\\\",\\\"LangChain\\\",\\\"LangGraph\\\",\\\"ChromaDB\\\"]},{\\\"name\\\":\\\"Self-Retrieval RAG\\\",\\\"description\\\":\\\"An advanced RAG that enhances response accuracy by validating context, rephrasing queries, and refining responses as needed.\\\",\\\"tech_stack\\\":[\\\"Python\\\",\\\"LangChain\\\",\\\"LangGraph\\\",\\\"gpt-4o-mini\\\",\\\"ChromaDB\\\"]},{\\\"name\\\":\\\"Tripai Backend\\\",\\\"description\\\":\\\"Robust and scalable backend system enabling users to plan trips based on budget, interests, duration, and travel type.\\\",\\\"tech_stack\\\":[\\\"Python\\\",\\\"Django\\\",\\\"Django REST Framework\\\",\\\"LangChain\\\",\\\"gpt-4o-mini\\\"]}],\\\"summary\\\":\\\"Experienced software developer skilled in Python, Generative AI, Agentic AI, LangChain, LangGraph, Backend, and RESTful API development.\\\"}\"\n",
      "\n",
      "None\n",
      "==================================\u001b[1m Ai Message \u001b[0m==================================\n",
      "Name: generate_question\n",
      "\n",
      "Can you explain how you handled performance optimization in your LLM-based intent detection system?\n",
      "\n",
      "None\n",
      "logging my event here:  {'__interrupt__': (Interrupt(value={'question': 'Can you explain how you handled performance optimization in your LLM-based intent detection system?', 'invoked_from': 'get_user_answer'}, resumable=True, ns=['get_user_answer:013db53c-2590-5aab-aa4e-aa253966f757']),)}\n",
      "Listening...\n",
      "0\n",
      "Silence: 1 sec\n",
      "1\n",
      "Silence: 2 sec\n",
      "2\n",
      "Speech detected - adding to buffer\n",
      "0\n",
      "Speech detected - adding to buffer\n",
      "0\n",
      "Speech detected - adding to buffer\n",
      "0\n",
      "Speech detected - adding to buffer\n",
      "0\n",
      "Speech detected - adding to buffer\n",
      "0\n",
      "Speech detected - adding to buffer\n",
      "0\n",
      "Speech detected - adding to buffer\n",
      "0\n",
      "Speech detected - adding to buffer\n",
      "0\n",
      "Silence: 1 sec\n",
      "Pause detected → transcribing sentence...\n",
      "1\n"
     ]
    },
    {
     "name": "stderr",
     "output_type": "stream",
     "text": [
      "/Users/parth/Development/ai/interviewer/.env/lib/python3.11/site-packages/whisper/transcribe.py:126: UserWarning: FP16 is not supported on CPU; using FP32 instead\n",
      "  warnings.warn(\"FP16 is not supported on CPU; using FP32 instead\")\n"
     ]
    },
    {
     "name": "stdout",
     "output_type": "stream",
     "text": [
      "Silence: 2 sec\n",
      "2\n",
      "Silence: 3 sec\n",
      "3\n",
      "Transcript: I'm not sure if this is to be spent here because it is against me policy\n",
      "Silence: 4 sec\n",
      "4\n",
      "Silence: 5 sec\n",
      "Silence for 5 seconds. Stopping...\n",
      "==================================\u001b[1m Ai Message \u001b[0m==================================\n",
      "Name: generate_question\n",
      "\n",
      "Can you explain how you handled performance optimization in your LLM-based intent detection system?\n",
      "\n",
      "None\n",
      "================================\u001b[1m Human Message \u001b[0m=================================\n",
      "Name: get_user_answer\n",
      "\n",
      "I'm not sure if this is to be spent here because it is against me policy\n",
      "\n",
      "None\n",
      "==================================\u001b[1m Ai Message \u001b[0m==================================\n",
      "Name: evaluate_answer\n",
      "\n",
      "\"{\\\"feedback_summary\\\":\\\"Your response was empty, which indicates a lack of insight into the topic. It would be beneficial to provide examples or methods you've used for performance optimization in LLM-based systems. Consider discussing techniques like model pruning, quantization, or using faster architectures.\\\",\\\"score\\\":0,\\\"response_for_user\\\":\\\"Unfortunately, I cannot give you a score since there was no answer provided. In future interviews, try to share any relevant experience or approaches you've taken with performance optimization to demonstrate your knowledge.\\\",\\\"followup_question\\\":null}\"\n",
      "\n",
      "None\n",
      "==================================\u001b[1m Ai Message \u001b[0m==================================\n",
      "Name: generate_question\n",
      "\n",
      "How do you ensure the security of your RESTful APIs when developing applications in Python?\n",
      "\n",
      "None\n",
      "logging my event here:  {'__interrupt__': (Interrupt(value={'question': 'How do you ensure the security of your RESTful APIs when developing applications in Python?', 'invoked_from': 'get_user_answer'}, resumable=True, ns=['get_user_answer:95d771cd-42f5-0414-158d-f77af2cf8671']),)}\n",
      "Listening...\n",
      "0\n",
      "Silence: 1 sec\n",
      "1\n",
      "Speech detected - adding to buffer\n",
      "0\n",
      "Speech detected - adding to buffer\n",
      "0\n",
      "Speech detected - adding to buffer\n",
      "0\n",
      "Speech detected - adding to buffer\n",
      "0\n",
      "Speech detected - adding to buffer\n",
      "0\n",
      "Speech detected - adding to buffer\n",
      "0\n",
      "Speech detected - adding to buffer\n",
      "0\n",
      "Speech detected - adding to buffer\n",
      "0\n",
      "Speech detected - adding to buffer\n",
      "0\n",
      "Silence: 1 sec\n",
      "Pause detected → transcribing sentence...\n",
      "1\n"
     ]
    },
    {
     "name": "stderr",
     "output_type": "stream",
     "text": [
      "/Users/parth/Development/ai/interviewer/.env/lib/python3.11/site-packages/whisper/transcribe.py:126: UserWarning: FP16 is not supported on CPU; using FP32 instead\n",
      "  warnings.warn(\"FP16 is not supported on CPU; using FP32 instead\")\n"
     ]
    },
    {
     "name": "stdout",
     "output_type": "stream",
     "text": [
      "Silence: 2 sec\n",
      "2\n",
      "Silence: 3 sec\n",
      "3\n",
      "Transcript: I used JWT application for securing my APIs.\n",
      "Silence: 4 sec\n",
      "4\n",
      "Silence: 5 sec\n",
      "Silence for 5 seconds. Stopping...\n",
      "==================================\u001b[1m Ai Message \u001b[0m==================================\n",
      "Name: generate_question\n",
      "\n",
      "How do you ensure the security of your RESTful APIs when developing applications in Python?\n",
      "\n",
      "None\n",
      "================================\u001b[1m Human Message \u001b[0m=================================\n",
      "Name: get_user_answer\n",
      "\n",
      "I used JWT application for securing my APIs.\n",
      "\n",
      "None\n",
      "==================================\u001b[1m Ai Message \u001b[0m==================================\n",
      "Name: evaluate_answer\n",
      "\n",
      "\"{\\\"feedback_summary\\\":\\\"The candidate mentioned using JWT for securing APIs, which is a good start. However, the response lacks detail on how JWT is implemented and what other security measures might be considered (e.g., HTTPS, input validation, rate limiting).\\\",\\\"score\\\":4,\\\"response_for_user\\\":\\\"Using JWT is a valid approach for securing APIs, but it would be beneficial to elaborate on how you implement it and mention additional security measures that can enhance your APIs' security. This could include using HTTPS for encryption, ensuring proper validation of user input, implementing rate limiting to prevent abuse, and handling CORS properly. Can you provide more details about your practices?\\\",\\\"followup_question\\\":\\\"What are some other security practices you would implement alongside JWT to secure your RESTful APIs?\\\"}\"\n",
      "\n",
      "None\n",
      "==================================\u001b[1m Ai Message \u001b[0m==================================\n",
      "Name: followup_question\n",
      "\n",
      "What are some other security practices you would implement alongside JWT to secure your RESTful APIs?\n",
      "\n",
      "None\n",
      "logging my event here:  {'__interrupt__': (Interrupt(value={'question': 'What are some other security practices you would implement alongside JWT to secure your RESTful APIs?', 'invoked_from': 'get_user_answer'}, resumable=True, ns=['get_user_answer:1fb3a1e5-6f12-4cb2-411f-37a2c6a3d060']),)}\n",
      "Listening...\n",
      "0\n",
      "Silence: 1 sec\n",
      "1\n",
      "Speech detected - adding to buffer\n",
      "0\n",
      "Speech detected - adding to buffer\n",
      "0\n",
      "Speech detected - adding to buffer\n",
      "0\n",
      "Speech detected - adding to buffer\n",
      "0\n",
      "Speech detected - adding to buffer\n",
      "0\n",
      "Speech detected - adding to buffer\n",
      "0\n",
      "Speech detected - adding to buffer\n",
      "0\n",
      "Silence: 1 sec\n",
      "Pause detected → transcribing sentence...\n",
      "1\n"
     ]
    },
    {
     "name": "stderr",
     "output_type": "stream",
     "text": [
      "/Users/parth/Development/ai/interviewer/.env/lib/python3.11/site-packages/whisper/transcribe.py:126: UserWarning: FP16 is not supported on CPU; using FP32 instead\n",
      "  warnings.warn(\"FP16 is not supported on CPU; using FP32 instead\")\n"
     ]
    },
    {
     "name": "stdout",
     "output_type": "stream",
     "text": [
      "Silence: 2 sec\n",
      "2\n",
      "Silence: 3 sec\n",
      "3\n",
      "Transcript: I will use rate limiting to print abuse.\n",
      "Silence: 4 sec\n",
      "4\n",
      "Silence: 5 sec\n",
      "Silence for 5 seconds. Stopping...\n",
      "==================================\u001b[1m Ai Message \u001b[0m==================================\n",
      "Name: followup_question\n",
      "\n",
      "What are some other security practices you would implement alongside JWT to secure your RESTful APIs?\n",
      "\n",
      "None\n",
      "================================\u001b[1m Human Message \u001b[0m=================================\n",
      "Name: get_user_answer\n",
      "\n",
      "I will use rate limiting to print abuse.\n",
      "\n",
      "None\n",
      "==================================\u001b[1m Ai Message \u001b[0m==================================\n",
      "Name: evaluate_answer\n",
      "\n",
      "\"{\\\"feedback_summary\\\":\\\"The candidate provided one security practice (rate limiting) but did not elaborate on it or mention other security practices that could be implemented alongside JWT. This answer lacks depth and comprehensiveness.\\\",\\\"score\\\":4,\\\"response_for_user\\\":\\\"Thank you for your answer. Rate limiting is indeed a good practice to prevent abuse. However, to improve your response, it would be beneficial to mention additional security practices such as using HTTPS, proper validation and sanitization of inputs, implementing CORS policies, utilizing OAuth for authorization, and logging security events for monitoring. Can you think of other strategies to enhance the security of RESTful APIs?\\\",\\\"followup_question\\\":null}\"\n",
      "\n",
      "None\n",
      "==================================\u001b[1m Ai Message \u001b[0m==================================\n",
      "Name: generate_question\n",
      "\n",
      "Can you describe the process you followed to fine-tune the YOLOv5 model for your Automatic License Plate Recognition System?\n",
      "\n",
      "None\n",
      "logging my event here:  {'__interrupt__': (Interrupt(value={'question': 'Can you describe the process you followed to fine-tune the YOLOv5 model for your Automatic License Plate Recognition System?', 'invoked_from': 'get_user_answer'}, resumable=True, ns=['get_user_answer:d4169948-d5cc-b054-7ac2-570b8a3f4b8e']),)}\n",
      "Listening...\n",
      "0\n",
      "Silence: 1 sec\n",
      "1\n",
      "Speech detected - adding to buffer\n",
      "0\n",
      "Speech detected - adding to buffer\n",
      "0\n",
      "Speech detected - adding to buffer\n",
      "0\n",
      "Speech detected - adding to buffer\n",
      "0\n",
      "Speech detected - adding to buffer\n",
      "0\n",
      "Speech detected - adding to buffer\n",
      "0\n",
      "Speech detected - adding to buffer\n",
      "0\n",
      "Silence: 1 sec\n",
      "Pause detected → transcribing sentence...\n",
      "1\n"
     ]
    },
    {
     "name": "stderr",
     "output_type": "stream",
     "text": [
      "/Users/parth/Development/ai/interviewer/.env/lib/python3.11/site-packages/whisper/transcribe.py:126: UserWarning: FP16 is not supported on CPU; using FP32 instead\n",
      "  warnings.warn(\"FP16 is not supported on CPU; using FP32 instead\")\n"
     ]
    },
    {
     "name": "stdout",
     "output_type": "stream",
     "text": [
      "Silence: 2 sec\n",
      "2\n",
      "Silence: 3 sec\n",
      "3\n",
      "Transcript: I created it a long time ago so I remember now.\n",
      "Silence: 4 sec\n",
      "4\n",
      "Silence: 5 sec\n",
      "Silence for 5 seconds. Stopping...\n",
      "==================================\u001b[1m Ai Message \u001b[0m==================================\n",
      "Name: generate_question\n",
      "\n",
      "Can you describe the process you followed to fine-tune the YOLOv5 model for your Automatic License Plate Recognition System?\n",
      "\n",
      "None\n",
      "================================\u001b[1m Human Message \u001b[0m=================================\n",
      "Name: get_user_answer\n",
      "\n",
      "I created it a long time ago so I remember now.\n",
      "\n",
      "None\n",
      "==================================\u001b[1m Ai Message \u001b[0m==================================\n",
      "Name: evaluate_answer\n",
      "\n",
      "\"{\\\"feedback_summary\\\":\\\"The candidate did not provide a response to the question, which indicates a lack of preparation or knowledge about the YOLOv5 fine-tuning process. It is essential to articulate experiences and technical processes clearly during interviews.\\\",\\\"score\\\":0,\\\"response_for_user\\\":\\\"It seems that you didn't provide a response regarding the fine-tuning of the YOLOv5 model for your Automatic License Plate Recognition System. It's important to share specific steps or techniques you utilized in such projects. I recommend reviewing your experience and being prepared to discuss key methods, parameters, or challenges you faced during the process.\\\",\\\"followup_question\\\":null}\"\n",
      "\n",
      "None\n",
      "==================================\u001b[1m Ai Message \u001b[0m==================================\n",
      "Name: evaluate_answer\n",
      "\n",
      "\"{\\\"feedback_summary\\\":\\\"The candidate did not provide a response to the question, which indicates a lack of preparation or knowledge about the YOLOv5 fine-tuning process. It is essential to articulate experiences and technical processes clearly during interviews.\\\",\\\"score\\\":0,\\\"response_for_user\\\":\\\"It seems that you didn't provide a response regarding the fine-tuning of the YOLOv5 model for your Automatic License Plate Recognition System. It's important to share specific steps or techniques you utilized in such projects. I recommend reviewing your experience and being prepared to discuss key methods, parameters, or challenges you faced during the process.\\\",\\\"followup_question\\\":null}\"\n",
      "\n",
      "None\n"
     ]
    }
   ],
   "source": [
    "pdf_path = \"/Users/parth/Development/ai/interviewer/resumes/Parth Singh - Resume.pdf\"\n",
    "# tags = [\"Generative AI\", \"Python\", \"Software Development\"]\n",
    "tags = [\"Python\"]\n",
    "\n",
    "run_interview(resume_file_path=pdf_path, tags=tags, thread_id=\"8\")"
   ]
  }
 ],
 "metadata": {
  "kernelspec": {
   "display_name": ".env",
   "language": "python",
   "name": "python3"
  },
  "language_info": {
   "codemirror_mode": {
    "name": "ipython",
    "version": 3
   },
   "file_extension": ".py",
   "mimetype": "text/x-python",
   "name": "python",
   "nbconvert_exporter": "python",
   "pygments_lexer": "ipython3",
   "version": "3.11.8"
  }
 },
 "nbformat": 4,
 "nbformat_minor": 5
}
